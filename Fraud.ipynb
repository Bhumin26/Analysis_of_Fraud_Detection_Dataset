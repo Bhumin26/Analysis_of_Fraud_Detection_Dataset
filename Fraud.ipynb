{
  "nbformat": 4,
  "nbformat_minor": 0,
  "metadata": {
    "colab": {
      "provenance": []
    },
    "kernelspec": {
      "name": "python3",
      "display_name": "Python 3"
    },
    "language_info": {
      "name": "python"
    }
  },
  "cells": [
    {
      "cell_type": "code",
      "execution_count": 23,
      "metadata": {
        "id": "mMWigcdjtjzP"
      },
      "outputs": [],
      "source": [
        "# Import necessary libraries\n",
        "import pandas as pd\n",
        "import numpy as np\n",
        "from scipy import stats\n",
        "from sklearn.model_selection import train_test_split, cross_val_score\n",
        "from sklearn.tree import DecisionTreeClassifier\n",
        "from statsmodels.stats.outliers_influence import variance_inflation_factor\n",
        "from sklearn.metrics import accuracy_score, classification_report, confusion_matrix, roc_auc_score, roc_curve\n",
        "from sklearn.preprocessing import LabelEncoder, StandardScaler\n",
        "from imblearn.over_sampling import SMOTE\n",
        "import matplotlib.pyplot as plt\n",
        "import seaborn as sns"
      ]
    },
    {
      "cell_type": "code",
      "source": [
        "from google.colab import drive\n",
        "drive.mount('/content/drive')"
      ],
      "metadata": {
        "colab": {
          "base_uri": "https://localhost:8080/"
        },
        "id": "LfE24ujPvtzu",
        "outputId": "a708d032-0470-406a-b15d-76c66f43e9a0"
      },
      "execution_count": 24,
      "outputs": [
        {
          "output_type": "stream",
          "name": "stdout",
          "text": [
            "Drive already mounted at /content/drive; to attempt to forcibly remount, call drive.mount(\"/content/drive\", force_remount=True).\n"
          ]
        }
      ]
    },
    {
      "cell_type": "code",
      "source": [
        "dataframe = pd.read_csv('/content/drive/MyDrive/Fraud.csv')\n",
        "print(dataframe.head())"
      ],
      "metadata": {
        "colab": {
          "base_uri": "https://localhost:8080/"
        },
        "id": "1DgfHOK1vxWG",
        "outputId": "d31608d4-1cf1-4611-d143-ca8ae9477f8b"
      },
      "execution_count": 25,
      "outputs": [
        {
          "output_type": "stream",
          "name": "stdout",
          "text": [
            "   step      type    amount     nameOrig  oldbalanceOrg  newbalanceOrig  \\\n",
            "0     1   PAYMENT   9839.64  C1231006815       170136.0       160296.36   \n",
            "1     1   PAYMENT   1864.28  C1666544295        21249.0        19384.72   \n",
            "2     1  TRANSFER    181.00  C1305486145          181.0            0.00   \n",
            "3     1  CASH_OUT    181.00   C840083671          181.0            0.00   \n",
            "4     1   PAYMENT  11668.14  C2048537720        41554.0        29885.86   \n",
            "\n",
            "      nameDest  oldbalanceDest  newbalanceDest  isFraud  isFlaggedFraud  \n",
            "0  M1979787155             0.0             0.0        0               0  \n",
            "1  M2044282225             0.0             0.0        0               0  \n",
            "2   C553264065             0.0             0.0        1               0  \n",
            "3    C38997010         21182.0             0.0        1               0  \n",
            "4  M1230701703             0.0             0.0        0               0  \n"
          ]
        }
      ]
    },
    {
      "cell_type": "code",
      "source": [
        "print(\"Missing Values:\")\n",
        "\n",
        "X = dataframe.drop(['isFraud', 'isFlaggedFraud'], axis=1)\n",
        "y = dataframe['isFraud']\n",
        "\n",
        "\n",
        "numeric_cols = X.select_dtypes(include=['int64', 'float64']).columns\n",
        "\n",
        "\n",
        "vif = pd.DataFrame()\n",
        "vif['features'] = numeric_cols\n",
        "vif['VIF'] = [variance_inflation_factor(X[numeric_cols].values, i)\n",
        "\n",
        "for i in range(X[numeric_cols].shape[1])]\n",
        "vif['VIF'] = round(vif['VIF'], 2)\n",
        "\n",
        "highly_correlated_features = vif[vif['VIF'] > 5]['features'].tolist()\n",
        "\n",
        "print(dataframe.isnull().sum())"
      ],
      "metadata": {
        "colab": {
          "base_uri": "https://localhost:8080/"
        },
        "id": "x9NXU9HvwIGk",
        "outputId": "4c143073-81ee-45d8-ef4b-31b0ec5a00fa"
      },
      "execution_count": 26,
      "outputs": [
        {
          "output_type": "stream",
          "name": "stdout",
          "text": [
            "Missing Values:\n",
            "step              0\n",
            "type              0\n",
            "amount            0\n",
            "nameOrig          0\n",
            "oldbalanceOrg     0\n",
            "newbalanceOrig    0\n",
            "nameDest          0\n",
            "oldbalanceDest    0\n",
            "newbalanceDest    0\n",
            "isFraud           0\n",
            "isFlaggedFraud    0\n",
            "dtype: int64\n"
          ]
        }
      ]
    },
    {
      "cell_type": "code",
      "source": [
        "X = dataframe.drop(['isFraud', 'isFlaggedFraud'], axis=1)\n",
        "y = dataframe['isFraud']\n",
        "\n",
        "\n",
        "numerical_cols = X.select_dtypes(include=[np.number]).columns\n",
        "categorical_cols = X.select_dtypes(exclude=[np.number]).columns\n",
        "\n",
        "\n",
        "vif = pd.DataFrame()\n",
        "vif['features'] = numeric_cols\n",
        "vif['VIF'] = [variance_inflation_factor(X[numeric_cols].values, i) for i in range(X[numeric_cols].shape[1])]\n",
        "vif['VIF'] = round(vif['VIF'], 2)\n",
        "\n",
        "highly_correlated_features = vif[vif['VIF'] > 5]['features'].tolist()"
      ],
      "metadata": {
        "id": "RZXVNpAjrqHt"
      },
      "execution_count": 27,
      "outputs": []
    },
    {
      "cell_type": "code",
      "source": [
        "z_scores = np.abs(stats.zscore(dataframe[numerical_cols]))\n",
        "print(\"\\nOutliers:\")\n",
        "print(np.where(z_scores > 3))"
      ],
      "metadata": {
        "colab": {
          "base_uri": "https://localhost:8080/"
        },
        "id": "70YiOeTTxXDP",
        "outputId": "8194a99d-f703-4c52-f47b-1b2137f40c58"
      },
      "execution_count": 28,
      "outputs": [
        {
          "output_type": "stream",
          "name": "stdout",
          "text": [
            "\n",
            "Outliers:\n",
            "(array([     84,      88,      89, ..., 6362617, 6362618, 6362619]), array([5, 5, 5, ..., 1, 0, 0]))\n"
          ]
        }
      ]
    },
    {
      "cell_type": "code",
      "source": [
        "dataframe = dataframe[(z_scores < 3).all(axis=1)]"
      ],
      "metadata": {
        "id": "Tl8TIocKx-VC"
      },
      "execution_count": 29,
      "outputs": []
    },
    {
      "cell_type": "code",
      "source": [
        "vif = pd.DataFrame(columns=['VIF', 'features'])\n",
        "vif_data = dataframe[numerical_cols]\n",
        "\n",
        "for i in range(vif_data.shape[1]):\n",
        "    if vif_data.iloc[:, i].var() > 0:\n",
        "        vif.loc[i] = [variance_inflation_factor(vif_data.values, i), vif_data.columns[i]]\n",
        "    else:\n",
        "        vif.loc[i] = [0, vif_data.columns[i]]\n",
        "\n",
        "print(\"\\nVIF Analysis:\")\n",
        "print(vif.sort_values('VIF', ascending=False))"
      ],
      "metadata": {
        "colab": {
          "base_uri": "https://localhost:8080/"
        },
        "id": "BuHTwajhyEpo",
        "outputId": "5d8d02d6-e900-4c76-c1a2-2080e10f04d7"
      },
      "execution_count": 30,
      "outputs": [
        {
          "output_type": "stream",
          "name": "stdout",
          "text": [
            "\n",
            "VIF Analysis:\n",
            "          VIF        features\n",
            "3  376.181060  newbalanceOrig\n",
            "2  364.716035   oldbalanceOrg\n",
            "5  136.179149  newbalanceDest\n",
            "4  124.387283  oldbalanceDest\n",
            "1    3.601899          amount\n",
            "0    1.427661            step\n"
          ]
        }
      ]
    },
    {
      "cell_type": "code",
      "source": [
        "highly_correlated_features = vif[vif['VIF'] > 5]['features'].tolist()\n",
        "dataframe = dataframe.drop(highly_correlated_features, axis=1)"
      ],
      "metadata": {
        "id": "pzY9RH5VySWC"
      },
      "execution_count": 31,
      "outputs": []
    },
    {
      "cell_type": "code",
      "source": [
        "if set(numerical_cols).issubset(set(dataframe.columns)):\n",
        "    if dataframe[numerical_cols].shape[0] > 0:\n",
        "        pca = PCA(n_components=0.95)\n",
        "        pca_data = pca.fit_transform(dataframe[numerical_cols])\n",
        "        dataframe_pca = pd.DataFrame(pca_data, columns=[f'PC{i+1}' for i in range(pca_data.shape[1])])\n",
        "    else:\n",
        "        dataframe_pca = pd.DataFrame()\n",
        "        print(\"The dataframe is empty.\")\n",
        "else:\n",
        "    dataframe_pca = pd.DataFrame()\n",
        "    print(\"The columns do not exist in the dataframe.\")\n",
        "\n",
        "dataframe_cleaned = pd.concat([dataframe[categorical_cols], dataframe_pca, dataframe[['isFraud', 'isFlaggedFraud']]], axis=1)\n",
        "print(\"\\nCleaned Dataset:\")\n",
        "print(dataframe_cleaned.head())"
      ],
      "metadata": {
        "colab": {
          "base_uri": "https://localhost:8080/"
        },
        "id": "7NsK5vV1ycdW",
        "outputId": "fa8cc6a0-6807-425c-a952-55941e9225c4"
      },
      "execution_count": 33,
      "outputs": [
        {
          "output_type": "stream",
          "name": "stdout",
          "text": [
            "The columns do not exist in the dataframe.\n",
            "\n",
            "Cleaned Dataset:\n",
            "       type     nameOrig     nameDest  isFraud  isFlaggedFraud\n",
            "0   PAYMENT  C1231006815  M1979787155        0               0\n",
            "1   PAYMENT  C1666544295  M2044282225        0               0\n",
            "2  TRANSFER  C1305486145   C553264065        1               0\n",
            "3  CASH_OUT   C840083671    C38997010        1               0\n",
            "4   PAYMENT  C2048537720  M1230701703        0               0\n"
          ]
        }
      ]
    },
    {
      "cell_type": "code",
      "source": [
        "X = dataframe.drop(['isFraud', 'isFlaggedFraud'], axis=1)\n",
        "y = dataframe['isFraud']\n",
        "\n",
        "\n",
        "X_train, X_test, y_train, y_test = train_test_split(X, y, test_size=0.2, random_state=42)\n",
        "\n",
        "\n",
        "dtc = DecisionTreeClassifier(random_state=42)\n",
        "\n",
        "le = LabelEncoder()\n",
        "\n",
        "\n",
        "categorical_cols = X_train.select_dtypes(include=['object']).columns\n",
        "\n",
        "\n",
        "for col in categorical_cols:\n",
        "    X_train[col] = le.fit_transform(X_train[col])\n",
        "\n",
        "\n",
        "dtc.fit(X_train, y_train)\n",
        "\n",
        "\n",
        "y_train = dtc.predict(X_train)\n",
        "\n",
        "\n",
        "accuracy = accuracy_score(y_train, y_train)\n",
        "print(\"Accuracy:\", accuracy)\n",
        "print(\"Classification Report:\")\n",
        "print(classification_report(y_train, y_train))\n",
        "print(\"Confusion Matrix:\")\n",
        "print(confusion_matrix(y_train, y_train))\n",
        "\n",
        "\n",
        "\n",
        "cm = confusion_matrix(y_train, y_train)\n",
        "sns.heatmap(cm, annot=True, fmt='d', cmap='Blues', xticklabels=['Not Fraud', 'Fraud'], yticklabels=['Not Fraud', 'Fraud'])\n",
        "plt.xlabel('Predicted')\n",
        "plt.ylabel('Actual')"
      ],
      "metadata": {
        "colab": {
          "base_uri": "https://localhost:8080/",
          "height": 725
        },
        "id": "H9A5Y8g_0zlU",
        "outputId": "d160bf24-65b1-4532-d13c-ff85c53e8c36"
      },
      "execution_count": 34,
      "outputs": [
        {
          "output_type": "stream",
          "name": "stdout",
          "text": [
            "Accuracy: 1.0\n",
            "Classification Report:\n",
            "              precision    recall  f1-score   support\n",
            "\n",
            "           0       1.00      1.00      1.00   4816100\n",
            "           1       1.00      1.00      1.00      4661\n",
            "\n",
            "    accuracy                           1.00   4820761\n",
            "   macro avg       1.00      1.00      1.00   4820761\n",
            "weighted avg       1.00      1.00      1.00   4820761\n",
            "\n",
            "Confusion Matrix:\n",
            "[[4816100       0]\n",
            " [      0    4661]]\n"
          ]
        },
        {
          "output_type": "execute_result",
          "data": {
            "text/plain": [
              "Text(50.722222222222214, 0.5, 'Actual')"
            ]
          },
          "metadata": {},
          "execution_count": 34
        },
        {
          "output_type": "display_data",
          "data": {
            "text/plain": [
              "<Figure size 640x480 with 2 Axes>"
            ],
            "image/png": "[encoded data removed]"
          },
          "metadata": {}
        }
      ]
    },
    {
      "cell_type": "code",
      "source": [
        "feature_importances = dtc.feature_importances_\n",
        "\n",
        "\n",
        "feature_importance_df = pd.DataFrame({\n",
        "    'Feature': X.columns,\n",
        "    'Importance': feature_importances\n",
        "})\n",
        "\n",
        "\n",
        "feature_importance_df = feature_importance_df.sort_values(by='Importance', ascending=False)\n",
        "\n",
        "\n",
        "print(\"Key factors predicting fraudulent customers:\")\n",
        "print(feature_importance_df.head(10))\n",
        "\n",
        "\n",
        "import matplotlib.pyplot as plt\n",
        "plt.figure(figsize=(10, 6))\n",
        "plt.barh(feature_importance_df['Feature'][:10], feature_importance_df['Importance'][:10], color='skyblue')\n",
        "plt.xlabel('Importance')\n",
        "plt.ylabel('Features')\n",
        "plt.title('Top 10 Key Features Predicting Fraudulent Customers')\n",
        "plt.gca().invert_yaxis()\n",
        "plt.show()\n"
      ],
      "metadata": {
        "colab": {
          "base_uri": "https://localhost:8080/",
          "height": 685
        },
        "id": "IuOOse6LnbIm",
        "outputId": "8743445d-9cad-4ce1-c21a-e37852d34dd7"
      },
      "execution_count": 35,
      "outputs": [
        {
          "output_type": "stream",
          "name": "stdout",
          "text": [
            "Key factors predicting fraudulent customers:\n",
            "    Feature  Importance\n",
            "0      step    0.340918\n",
            "2    amount    0.275852\n",
            "3  nameOrig    0.197023\n",
            "4  nameDest    0.179225\n",
            "1      type    0.006982\n"
          ]
        },
        {
          "output_type": "display_data",
          "data": {
            "text/plain": [
              "<Figure size 1000x600 with 1 Axes>"
            ],
            "image/png": "[encoded data removed]"
          },
          "metadata": {}
        }
      ]
    }
  ]
}